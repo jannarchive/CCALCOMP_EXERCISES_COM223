{
  "cells": [
    {
      "cell_type": "markdown",
      "metadata": {
        "id": "view-in-github",
        "colab_type": "text"
      },
      "source": [
        "<a href=\"https://colab.research.google.com/github/jannarchive/CCALCOMP_EXERCISES_COM223/blob/main/exercise4.ipynb\" target=\"_parent\"><img src=\"https://colab.research.google.com/assets/colab-badge.svg\" alt=\"Open In Colab\"/></a>"
      ]
    },
    {
      "cell_type": "markdown",
      "metadata": {
        "id": "cPRRjBOhHHMh"
      },
      "source": [
        "# Exercise 4\n",
        "\n",
        "Please follow the instructions in each number."
      ]
    },
    {
      "cell_type": "markdown",
      "metadata": {
        "id": "zvDTNWRFHHMk"
      },
      "source": [
        "### Activity Selection Problem\n",
        "\n",
        "Given a set of activities, along with the starting and finishing time of each activity, find the maximum number of activities performed by a single person assuming that a person can only work on a single activity at a time.\n",
        "\n",
        "For example,\n",
        "\n",
        "Input: Following set of activities (1, 4), (3, 5), (0, 6), (5, 7), (3, 8), (5, 9), (6, 10), (8, 11), (8, 12), (2, 13), (12, 14)  \n",
        "\n",
        "Output: (1, 4), (5, 7), (8, 11), (12, 14)"
      ]
    },
    {
      "cell_type": "markdown",
      "metadata": {
        "id": "ff7w7YLGHHMl"
      },
      "source": [
        "## Tasks"
      ]
    },
    {
      "cell_type": "markdown",
      "metadata": {
        "id": "0QLHdoNSHHMl"
      },
      "source": [
        "1. Write a program using a recursive greedy approach to get the maximum number of activities (`50 points`)"
      ]
    },
    {
      "cell_type": "code",
      "execution_count": 15,
      "metadata": {
        "vscode": {
          "languageId": "plaintext"
        },
        "id": "Xe02cHvAHHMl",
        "colab": {
          "base_uri": "https://localhost:8080/"
        },
        "outputId": "c7f79e6b-9a2c-41bb-9ce0-ad449e71140d"
      },
      "outputs": [
        {
          "output_type": "stream",
          "name": "stdout",
          "text": [
            "The selected activities using the recursive greedy approach are:  [(1, 4), (5, 7), (8, 11), (12, 14)]\n"
          ]
        }
      ],
      "source": [
        "def recursive_greedy_approach(activity_list):\n",
        "\n",
        "  def get_finishing_time(activity):\n",
        "\n",
        "    return activity[1]\n",
        "\n",
        "  sorted_activities = sorted(activity_list, key=get_finishing_time)\n",
        "\n",
        "  def all_activity(current_index, selected_activities):\n",
        "\n",
        "    if len(activity_list) <= current_index:\n",
        "\n",
        "      return selected_activities\n",
        "\n",
        "    selected_activities.append(activity_list[current_index])\n",
        "\n",
        "    next_index = current_index + 1\n",
        "    while next_index < len(activity_list) and activity_list[next_index][0] < activity_list[current_index][1]:\n",
        "\n",
        "      next_index = next_index + 1\n",
        "\n",
        "    return all_activity(next_index, selected_activities)\n",
        "\n",
        "\n",
        "  return all_activity(0, [])\n",
        "\n",
        "activity_list = [(1, 4), (3, 5), (0, 6), (5, 7), (3, 8), (5, 9), (6, 10), (8, 11), (8, 12), (2, 13), (12, 14)]\n",
        "max_num_activities = recursive_greedy_approach(activity_list)\n",
        "\n",
        "print(\"The selected activities using the recursive greedy approach are: \", max_num_activities)"
      ]
    },
    {
      "cell_type": "markdown",
      "metadata": {
        "id": "eZe27u4LHHMn"
      },
      "source": [
        "2. Write a program using a iterative greedy approach to get the maximun number of activities (`50 points`)"
      ]
    },
    {
      "cell_type": "code",
      "execution_count": 16,
      "metadata": {
        "vscode": {
          "languageId": "plaintext"
        },
        "id": "UrSZyQwEHHMn",
        "colab": {
          "base_uri": "https://localhost:8080/"
        },
        "outputId": "9508f2a9-a7ad-42ee-d2d1-7e2465f0173f"
      },
      "outputs": [
        {
          "output_type": "stream",
          "name": "stdout",
          "text": [
            "The selected activities using the iterative greedy approach are:  [(1, 4), (5, 7), (8, 11), (12, 14)]\n"
          ]
        }
      ],
      "source": [
        "def interative_greedy_approach(activity_list):\n",
        "\n",
        "  def get_finishing_time(activity):\n",
        "\n",
        "    return activity[1]\n",
        "\n",
        "  sorted_activities = sorted(activity_list, key=get_finishing_time)\n",
        "\n",
        "  last_act_finish_time = 0;\n",
        "  selected_activities = []\n",
        "\n",
        "  for activity in sorted_activities:\n",
        "\n",
        "    start_time, finish_time = activity\n",
        "\n",
        "    if start_time >= last_act_finish_time:\n",
        "\n",
        "      selected_activities.append(activity)\n",
        "      last_act_finish_time = finish_time\n",
        "\n",
        "  return selected_activities\n",
        "\n",
        "activity_list = [(1, 4), (3, 5), (0, 6), (5, 7), (3, 8), (5, 9), (6, 10), (8, 11), (8, 12), (2, 13), (12, 14)]\n",
        "max_num_activities = interative_greedy_approach(activity_list)\n",
        "\n",
        "print(\"The selected activities using the iterative greedy approach are: \", max_num_activities)"
      ]
    }
  ],
  "metadata": {
    "colab": {
      "provenance": [],
      "include_colab_link": true
    },
    "kernelspec": {
      "display_name": "base",
      "language": "python",
      "name": "python3"
    },
    "language_info": {
      "codemirror_mode": {
        "name": "ipython",
        "version": 3
      },
      "file_extension": ".py",
      "mimetype": "text/x-python",
      "name": "python",
      "nbconvert_exporter": "python",
      "pygments_lexer": "ipython3",
      "version": "3.9.6"
    }
  },
  "nbformat": 4,
  "nbformat_minor": 0
}